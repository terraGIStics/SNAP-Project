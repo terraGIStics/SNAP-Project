{
 "cells": [
  {
   "cell_type": "code",
   "execution_count": 1,
   "id": "874480b8",
   "metadata": {
    "scrolled": true
   },
   "outputs": [
    {
     "name": "stdout",
     "output_type": "stream",
     "text": [
      "Requirement already satisfied: pandas in c:\\users\\casey\\anaconda3\\lib\\site-packages (1.4.3)\n",
      "Requirement already satisfied: python-dateutil>=2.8.1 in c:\\users\\casey\\anaconda3\\lib\\site-packages (from pandas) (2.8.2)\n",
      "Requirement already satisfied: numpy>=1.18.5 in c:\\users\\casey\\anaconda3\\lib\\site-packages (from pandas) (1.21.5)\n",
      "Requirement already satisfied: pytz>=2020.1 in c:\\users\\casey\\anaconda3\\lib\\site-packages (from pandas) (2021.3)\n",
      "Requirement already satisfied: six>=1.5 in c:\\users\\casey\\anaconda3\\lib\\site-packages (from python-dateutil>=2.8.1->pandas) (1.16.0)\n",
      "Note: you may need to restart the kernel to use updated packages.\n"
     ]
    }
   ],
   "source": [
    "pip install pandas"
   ]
  },
  {
   "cell_type": "code",
   "execution_count": 2,
   "id": "3e39b7c9",
   "metadata": {},
   "outputs": [
    {
     "name": "stdout",
     "output_type": "stream",
     "text": [
      "Requirement already satisfied: numpy in c:\\users\\casey\\anaconda3\\lib\\site-packages (1.21.5)Note: you may need to restart the kernel to use updated packages.\n",
      "\n"
     ]
    }
   ],
   "source": [
    "pip install numpy"
   ]
  },
  {
   "cell_type": "code",
   "execution_count": 3,
   "id": "90e6b1fd",
   "metadata": {},
   "outputs": [
    {
     "name": "stdout",
     "output_type": "stream",
     "text": [
      "Requirement already satisfied: seaborn in c:\\users\\casey\\anaconda3\\lib\\site-packages (0.11.2)\n",
      "Requirement already satisfied: pandas>=0.23 in c:\\users\\casey\\anaconda3\\lib\\site-packages (from seaborn) (1.4.3)\n",
      "Requirement already satisfied: scipy>=1.0 in c:\\users\\casey\\anaconda3\\lib\\site-packages (from seaborn) (1.7.3)\n",
      "Requirement already satisfied: numpy>=1.15 in c:\\users\\casey\\anaconda3\\lib\\site-packages (from seaborn) (1.21.5)\n",
      "Requirement already satisfied: matplotlib>=2.2 in c:\\users\\casey\\anaconda3\\lib\\site-packages (from seaborn) (3.5.1)\n",
      "Requirement already satisfied: kiwisolver>=1.0.1 in c:\\users\\casey\\anaconda3\\lib\\site-packages (from matplotlib>=2.2->seaborn) (1.3.2)\n",
      "Requirement already satisfied: pyparsing>=2.2.1 in c:\\users\\casey\\anaconda3\\lib\\site-packages (from matplotlib>=2.2->seaborn) (3.0.4)\n",
      "Requirement already satisfied: cycler>=0.10 in c:\\users\\casey\\anaconda3\\lib\\site-packages (from matplotlib>=2.2->seaborn) (0.11.0)\n",
      "Requirement already satisfied: pillow>=6.2.0 in c:\\users\\casey\\anaconda3\\lib\\site-packages (from matplotlib>=2.2->seaborn) (9.0.1)\n",
      "Requirement already satisfied: packaging>=20.0 in c:\\users\\casey\\anaconda3\\lib\\site-packages (from matplotlib>=2.2->seaborn) (21.3)\n",
      "Requirement already satisfied: python-dateutil>=2.7 in c:\\users\\casey\\anaconda3\\lib\\site-packages (from matplotlib>=2.2->seaborn) (2.8.2)\n",
      "Requirement already satisfied: fonttools>=4.22.0 in c:\\users\\casey\\anaconda3\\lib\\site-packages (from matplotlib>=2.2->seaborn) (4.25.0)\n",
      "Requirement already satisfied: pytz>=2020.1 in c:\\users\\casey\\anaconda3\\lib\\site-packages (from pandas>=0.23->seaborn) (2021.3)\n",
      "Requirement already satisfied: six>=1.5 in c:\\users\\casey\\anaconda3\\lib\\site-packages (from python-dateutil>=2.7->matplotlib>=2.2->seaborn) (1.16.0)\n",
      "Note: you may need to restart the kernel to use updated packages.\n"
     ]
    }
   ],
   "source": [
    "pip install seaborn"
   ]
  },
  {
   "cell_type": "code",
   "execution_count": 4,
   "id": "45d25a87",
   "metadata": {},
   "outputs": [
    {
     "name": "stdout",
     "output_type": "stream",
     "text": [
      "Requirement already satisfied: scikit-learn in c:\\users\\casey\\anaconda3\\lib\\site-packages (1.1.1)\n",
      "Requirement already satisfied: joblib>=1.0.0 in c:\\users\\casey\\anaconda3\\lib\\site-packages (from scikit-learn) (1.1.0)\n",
      "Requirement already satisfied: numpy>=1.17.3 in c:\\users\\casey\\anaconda3\\lib\\site-packages (from scikit-learn) (1.21.5)\n",
      "Requirement already satisfied: threadpoolctl>=2.0.0 in c:\\users\\casey\\anaconda3\\lib\\site-packages (from scikit-learn) (2.2.0)\n",
      "Requirement already satisfied: scipy>=1.3.2 in c:\\users\\casey\\anaconda3\\lib\\site-packages (from scikit-learn) (1.7.3)\n",
      "Note: you may need to restart the kernel to use updated packages.\n"
     ]
    }
   ],
   "source": [
    "pip install -U scikit-learn"
   ]
  },
  {
   "cell_type": "code",
   "execution_count": 5,
   "id": "855f68ea",
   "metadata": {},
   "outputs": [
    {
     "name": "stdout",
     "output_type": "stream",
     "text": [
      "Requirement already satisfied: treeinterpreter in c:\\users\\casey\\anaconda3\\lib\\site-packages (0.2.3)\n",
      "Note: you may need to restart the kernel to use updated packages.\n"
     ]
    }
   ],
   "source": [
    "pip install treeinterpreter"
   ]
  },
  {
   "cell_type": "code",
   "execution_count": 6,
   "id": "0dbcbcd7",
   "metadata": {},
   "outputs": [
    {
     "name": "stdout",
     "output_type": "stream",
     "text": [
      "Collecting package metadata (current_repodata.json): ...working... done\n",
      "Solving environment: ...working... done\n",
      "\n",
      "# All requested packages already installed.\n",
      "\n",
      "\n",
      "Note: you may need to restart the kernel to use updated packages.\n"
     ]
    }
   ],
   "source": [
    "conda install scikit-learn-intelex"
   ]
  },
  {
   "cell_type": "code",
   "execution_count": 7,
   "id": "b22fe42a",
   "metadata": {
    "scrolled": true
   },
   "outputs": [
    {
     "name": "stdout",
     "output_type": "stream",
     "text": [
      "Collecting package metadata (current_repodata.json): ...working... done\n",
      "Solving environment: ...working... done\n",
      "\n",
      "# All requested packages already installed.\n",
      "\n",
      "\n",
      "Note: you may need to restart the kernel to use updated packages.\n"
     ]
    }
   ],
   "source": [
    "conda install matplotlib"
   ]
  },
  {
   "cell_type": "code",
   "execution_count": 8,
   "id": "99200cfa",
   "metadata": {
    "scrolled": false
   },
   "outputs": [
    {
     "name": "stdout",
     "output_type": "stream",
     "text": [
      "Collecting package metadata (current_repodata.json): ...working... done\n",
      "Solving environment: ...working... done\n",
      "\n",
      "# All requested packages already installed.\n",
      "\n",
      "\n",
      "Note: you may need to restart the kernel to use updated packages.\n"
     ]
    }
   ],
   "source": [
    "conda install pyspark"
   ]
  },
  {
   "cell_type": "code",
   "execution_count": 9,
   "id": "054a02f8",
   "metadata": {},
   "outputs": [
    {
     "name": "stdout",
     "output_type": "stream",
     "text": [
      "Requirement already satisfied: findspark in c:\\users\\casey\\anaconda3\\lib\\site-packages (2.0.1)\n",
      "Note: you may need to restart the kernel to use updated packages.\n"
     ]
    }
   ],
   "source": [
    "pip install findspark"
   ]
  },
  {
   "cell_type": "code",
   "execution_count": 11,
   "id": "5ed84bea",
   "metadata": {},
   "outputs": [
    {
     "name": "stdout",
     "output_type": "stream",
     "text": [
      "Collecting package metadata (current_repodata.json): ...working... done\n",
      "Solving environment: ...working... done\n",
      "\n",
      "# All requested packages already installed.\n",
      "\n",
      "\n",
      "Note: you may need to restart the kernel to use updated packages.\n"
     ]
    }
   ],
   "source": [
    "conda install missingno"
   ]
  },
  {
   "cell_type": "code",
   "execution_count": 12,
   "id": "91ce0265",
   "metadata": {},
   "outputs": [
    {
     "name": "stdout",
     "output_type": "stream",
     "text": [
      "Requirement already satisfied: autoreload in c:\\users\\casey\\anaconda3\\lib\\site-packages (0.1.2)\n",
      "Requirement already satisfied: click in c:\\users\\casey\\anaconda3\\lib\\site-packages (from autoreload) (8.0.4)\n",
      "Requirement already satisfied: watchdog in c:\\users\\casey\\anaconda3\\lib\\site-packages (from autoreload) (2.1.6)\n",
      "Requirement already satisfied: selenium in c:\\users\\casey\\anaconda3\\lib\\site-packages (from autoreload) (4.3.0)\n",
      "Requirement already satisfied: colorama in c:\\users\\casey\\anaconda3\\lib\\site-packages (from click->autoreload) (0.4.4)\n",
      "Requirement already satisfied: urllib3[secure,socks]~=1.26 in c:\\users\\casey\\anaconda3\\lib\\site-packages (from selenium->autoreload) (1.26.9)\n",
      "Requirement already satisfied: trio-websocket~=0.9 in c:\\users\\casey\\anaconda3\\lib\\site-packages (from selenium->autoreload) (0.9.2)\n",
      "Requirement already satisfied: trio~=0.17 in c:\\users\\casey\\anaconda3\\lib\\site-packages (from selenium->autoreload) (0.21.0)\n",
      "Requirement already satisfied: idna in c:\\users\\casey\\anaconda3\\lib\\site-packages (from trio~=0.17->selenium->autoreload) (3.3)\n",
      "Requirement already satisfied: cffi>=1.14 in c:\\users\\casey\\anaconda3\\lib\\site-packages (from trio~=0.17->selenium->autoreload) (1.15.0)\n",
      "Requirement already satisfied: sortedcontainers in c:\\users\\casey\\anaconda3\\lib\\site-packages (from trio~=0.17->selenium->autoreload) (2.4.0)\n",
      "Requirement already satisfied: sniffio in c:\\users\\casey\\anaconda3\\lib\\site-packages (from trio~=0.17->selenium->autoreload) (1.2.0)\n",
      "Requirement already satisfied: outcome in c:\\users\\casey\\anaconda3\\lib\\site-packages (from trio~=0.17->selenium->autoreload) (1.2.0)\n",
      "Requirement already satisfied: attrs>=19.2.0 in c:\\users\\casey\\anaconda3\\lib\\site-packages (from trio~=0.17->selenium->autoreload) (21.4.0)\n",
      "Requirement already satisfied: async-generator>=1.9 in c:\\users\\casey\\anaconda3\\lib\\site-packages (from trio~=0.17->selenium->autoreload) (1.10)\n",
      "Requirement already satisfied: pycparser in c:\\users\\casey\\anaconda3\\lib\\site-packages (from cffi>=1.14->trio~=0.17->selenium->autoreload) (2.21)\n",
      "Requirement already satisfied: wsproto>=0.14 in c:\\users\\casey\\anaconda3\\lib\\site-packages (from trio-websocket~=0.9->selenium->autoreload) (1.1.0)\n",
      "Requirement already satisfied: PySocks!=1.5.7,<2.0,>=1.5.6 in c:\\users\\casey\\anaconda3\\lib\\site-packages (from urllib3[secure,socks]~=1.26->selenium->autoreload) (1.7.1)\n",
      "Requirement already satisfied: pyOpenSSL>=0.14 in c:\\users\\casey\\anaconda3\\lib\\site-packages (from urllib3[secure,socks]~=1.26->selenium->autoreload) (21.0.0)\n",
      "Requirement already satisfied: cryptography>=1.3.4 in c:\\users\\casey\\anaconda3\\lib\\site-packages (from urllib3[secure,socks]~=1.26->selenium->autoreload) (3.4.8)\n",
      "Requirement already satisfied: certifi in c:\\users\\casey\\anaconda3\\lib\\site-packages (from urllib3[secure,socks]~=1.26->selenium->autoreload) (2022.6.15)\n",
      "Requirement already satisfied: six>=1.5.2 in c:\\users\\casey\\anaconda3\\lib\\site-packages (from pyOpenSSL>=0.14->urllib3[secure,socks]~=1.26->selenium->autoreload) (1.16.0)\n",
      "Requirement already satisfied: h11<1,>=0.9.0 in c:\\users\\casey\\anaconda3\\lib\\site-packages (from wsproto>=0.14->trio-websocket~=0.9->selenium->autoreload) (0.13.0)\n",
      "Note: you may need to restart the kernel to use updated packages.\n"
     ]
    }
   ],
   "source": [
    "pip install autoreload"
   ]
  },
  {
   "cell_type": "code",
   "execution_count": 13,
   "id": "323a2a60",
   "metadata": {},
   "outputs": [
    {
     "name": "stdout",
     "output_type": "stream",
     "text": [
      "Requirement already satisfied: pyreadstat in c:\\users\\casey\\anaconda3\\lib\\site-packages (1.1.9)\n",
      "Requirement already satisfied: pandas>=1.2.0 in c:\\users\\casey\\anaconda3\\lib\\site-packages (from pyreadstat) (1.4.3)\n",
      "Requirement already satisfied: python-dateutil>=2.8.1 in c:\\users\\casey\\anaconda3\\lib\\site-packages (from pandas>=1.2.0->pyreadstat) (2.8.2)\n",
      "Requirement already satisfied: numpy>=1.18.5 in c:\\users\\casey\\anaconda3\\lib\\site-packages (from pandas>=1.2.0->pyreadstat) (1.21.5)\n",
      "Requirement already satisfied: pytz>=2020.1 in c:\\users\\casey\\anaconda3\\lib\\site-packages (from pandas>=1.2.0->pyreadstat) (2021.3)\n",
      "Requirement already satisfied: six>=1.5 in c:\\users\\casey\\anaconda3\\lib\\site-packages (from python-dateutil>=2.8.1->pandas>=1.2.0->pyreadstat) (1.16.0)\n",
      "Note: you may need to restart the kernel to use updated packages.\n"
     ]
    }
   ],
   "source": [
    "pip install pyreadstat"
   ]
  },
  {
   "cell_type": "code",
   "execution_count": null,
   "id": "2f2c197f",
   "metadata": {},
   "outputs": [],
   "source": []
  }
 ],
 "metadata": {
  "kernelspec": {
   "display_name": "Python 3 (ipykernel)",
   "language": "python",
   "name": "python3"
  },
  "language_info": {
   "codemirror_mode": {
    "name": "ipython",
    "version": 3
   },
   "file_extension": ".py",
   "mimetype": "text/x-python",
   "name": "python",
   "nbconvert_exporter": "python",
   "pygments_lexer": "ipython3",
   "version": "3.9.12"
  }
 },
 "nbformat": 4,
 "nbformat_minor": 5
}
